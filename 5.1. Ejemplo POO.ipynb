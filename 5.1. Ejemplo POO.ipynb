{
 "cells": [
  {
   "cell_type": "code",
   "execution_count": 12,
   "metadata": {},
   "outputs": [],
   "source": [
    "class Sensor:\n",
    "    def __init__(self, sensor_id, sensor_type, units, battery_level = 100):\n",
    "        self.sensor_id = sensor_id\n",
    "        self.sensor_type = sensor_type\n",
    "        self.units = units\n",
    "        self.battery_level = battery_level\n",
    "        self.data = []\n",
    "\n",
    "    def register_data(self, new_data):\n",
    "        if self.battery_level <= 0:\n",
    "            print(\"Batería agotada. Por favor, recargue el sensor.\")\n",
    "            return\n",
    "        self.data.append(new_data)\n",
    "        self.battery_level -= 1\n",
    "        print('Dato registrado en', self.sensor_id, 'Nivel de batería:', self.battery_level)\n",
    "\n",
    "    def show_data(self):\n",
    "        if len(self.data)==0:\n",
    "            print('No hay datos registrados.')\n",
    "            return\n",
    "        return self.data\n",
    "    \n",
    "    def show_stats(self):\n",
    "        if len(self.data)==0:\n",
    "            print('No hay datos registrados.')\n",
    "            return\n",
    "        maximo = max(self.data)\n",
    "        minimo = min(self.data)\n",
    "        avg = sum(self.data)/len(self.data)\n",
    "        return {'max': maximo, 'min': minimo, 'avg': avg}\n",
    "    \n",
    "    def show_battery_level(self):\n",
    "        print('Nivel de batería del sensor', self.sensor_id, self.battery_level, '%')"
   ]
  },
  {
   "cell_type": "code",
   "execution_count": 13,
   "metadata": {},
   "outputs": [],
   "source": [
    "temp_sensor = Sensor('T001', ' Temperatura', 'C')\n",
    "hum_sensor = Sensor('H001', ' Temperatura', '%')\n",
    "wind_sensor = Sensor('W001', ' Temperatura', 'm/s', 50)"
   ]
  },
  {
   "cell_type": "code",
   "execution_count": 14,
   "metadata": {},
   "outputs": [
    {
     "data": {
      "text/plain": [
       "__main__.Sensor"
      ]
     },
     "execution_count": 14,
     "metadata": {},
     "output_type": "execute_result"
    }
   ],
   "source": [
    "type(hum_sensor)"
   ]
  },
  {
   "cell_type": "code",
   "execution_count": 15,
   "metadata": {},
   "outputs": [
    {
     "data": {
      "text/plain": [
       "100"
      ]
     },
     "execution_count": 15,
     "metadata": {},
     "output_type": "execute_result"
    }
   ],
   "source": [
    "hum_sensor.battery_level"
   ]
  },
  {
   "cell_type": "code",
   "execution_count": 16,
   "metadata": {},
   "outputs": [
    {
     "data": {
      "text/plain": [
       "50"
      ]
     },
     "execution_count": 16,
     "metadata": {},
     "output_type": "execute_result"
    }
   ],
   "source": [
    "wind_sensor.battery_level"
   ]
  },
  {
   "cell_type": "code",
   "execution_count": 17,
   "metadata": {},
   "outputs": [
    {
     "name": "stdout",
     "output_type": "stream",
     "text": [
      "Dato registrado en T001 Nivel de batería: 99\n",
      "Dato registrado en H001 Nivel de batería: 99\n",
      "Dato registrado en H001 Nivel de batería: 98\n",
      "Dato registrado en H001 Nivel de batería: 97\n",
      "Dato registrado en W001 Nivel de batería: 49\n",
      "Dato registrado en W001 Nivel de batería: 48\n"
     ]
    }
   ],
   "source": [
    "temp_sensor.register_data(22.5)\n",
    "hum_sensor.register_data(23.1)\n",
    "hum_sensor.register_data(26.2)\n",
    "hum_sensor.register_data(33.6)\n",
    "wind_sensor.register_data(5.7)\n",
    "wind_sensor.register_data(6.8)"
   ]
  },
  {
   "cell_type": "code",
   "execution_count": 19,
   "metadata": {},
   "outputs": [
    {
     "name": "stdout",
     "output_type": "stream",
     "text": [
      "Nivel de batería del sensor W001 48 %\n"
     ]
    }
   ],
   "source": [
    "wind_sensor.show_battery_level()"
   ]
  },
  {
   "cell_type": "code",
   "execution_count": 20,
   "metadata": {},
   "outputs": [
    {
     "data": {
      "text/plain": [
       "{'max': 33.6, 'min': 23.1, 'avg': 27.633333333333336}"
      ]
     },
     "execution_count": 20,
     "metadata": {},
     "output_type": "execute_result"
    }
   ],
   "source": [
    "hum_sensor.show_stats()"
   ]
  },
  {
   "cell_type": "code",
   "execution_count": null,
   "metadata": {},
   "outputs": [],
   "source": []
  }
 ],
 "metadata": {
  "kernelspec": {
   "display_name": "python_eoi",
   "language": "python",
   "name": "python3"
  },
  "language_info": {
   "codemirror_mode": {
    "name": "ipython",
    "version": 3
   },
   "file_extension": ".py",
   "mimetype": "text/x-python",
   "name": "python",
   "nbconvert_exporter": "python",
   "pygments_lexer": "ipython3",
   "version": "3.12.3"
  }
 },
 "nbformat": 4,
 "nbformat_minor": 2
}
