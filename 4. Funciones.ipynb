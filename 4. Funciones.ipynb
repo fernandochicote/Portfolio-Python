{
 "cells": [
  {
   "cell_type": "markdown",
   "id": "402e0b64",
   "metadata": {},
   "source": [
    "# Funciones"
   ]
  },
  {
   "cell_type": "markdown",
   "id": "29c4103c",
   "metadata": {},
   "source": [
    "Mediante las funciones podemos encapsular código en formato entrada/salida. Por lo que si tienes un código repetitivo, que depende de ciertos inputs, las funciones pueden ser una buena solución.\n",
    "\n",
    "Una función recibe argumentos y devuelve resultados\n",
    "* Funciones internas: `max`, `min`, `len`...\n",
    "* Funciones de conversión de tipos: `int('32')`, `float(32)`, `str(32)`...\n",
    "* Funciones matemáticas (hay que importar el módulo `math`): `math.log10(20)`, `math.sin(90)`..."
   ]
  },
  {
   "cell_type": "code",
   "execution_count": 2,
   "id": "25f4ae95",
   "metadata": {},
   "outputs": [
    {
     "data": {
      "text/plain": [
       "0.40808206181339196"
      ]
     },
     "execution_count": 2,
     "metadata": {},
     "output_type": "execute_result"
    }
   ],
   "source": [
    "import math\n",
    "math.cos(20)"
   ]
  },
  {
   "cell_type": "markdown",
   "id": "058055ef",
   "metadata": {},
   "source": [
    "Crear nuevas funciones:"
   ]
  },
  {
   "cell_type": "code",
   "execution_count": 5,
   "id": "48296e41",
   "metadata": {},
   "outputs": [],
   "source": [
    "def mi_exponencial(numero, exponente, cte = 2):\n",
    "    exp = (numero**exponente) - cte\n",
    "    return exp"
   ]
  },
  {
   "cell_type": "markdown",
   "id": "29efd046",
   "metadata": {},
   "source": [
    "Llamada a la función"
   ]
  },
  {
   "cell_type": "code",
   "execution_count": 4,
   "id": "84b05b95",
   "metadata": {},
   "outputs": [
    {
     "data": {
      "text/plain": [
       "22"
      ]
     },
     "execution_count": 4,
     "metadata": {},
     "output_type": "execute_result"
    }
   ],
   "source": [
    "mi_exponencial(5, 2, 3)"
   ]
  },
  {
   "cell_type": "code",
   "execution_count": 6,
   "id": "d89e503b",
   "metadata": {},
   "outputs": [
    {
     "data": {
      "text/plain": [
       "7"
      ]
     },
     "execution_count": 6,
     "metadata": {},
     "output_type": "execute_result"
    }
   ],
   "source": [
    "resultado = mi_exponencial(3,2)\n",
    "resultado"
   ]
  },
  {
   "cell_type": "markdown",
   "id": "7724a885",
   "metadata": {},
   "source": [
    "**¿Cuál es la diferencia entre una función y un método?**  \n",
    "1) La sintaxis es diferente:   \n",
    "- `funcion(objeto)`  \n",
    "- `objeto.metodo()`   \n",
    "\n",
    "2) Las funciones no modifican los objetos, mientras que los métodos pueden modificarlos"
   ]
  },
  {
   "cell_type": "code",
   "execution_count": 33,
   "id": "e5a14a9b",
   "metadata": {},
   "outputs": [],
   "source": [
    "lista = [1, 2, 3]"
   ]
  },
  {
   "cell_type": "code",
   "execution_count": 34,
   "id": "3540aabe",
   "metadata": {},
   "outputs": [
    {
     "data": {
      "text/plain": [
       "(3, 3, list, '[1, 2, 3]')"
      ]
     },
     "execution_count": 34,
     "metadata": {},
     "output_type": "execute_result"
    }
   ],
   "source": [
    "# Ejemplos de funciones\n",
    "\n",
    "len(lista), max(lista), type(lista), str(lista)"
   ]
  },
  {
   "cell_type": "code",
   "execution_count": 35,
   "id": "d9216f09",
   "metadata": {},
   "outputs": [
    {
     "data": {
      "text/plain": [
       "[10, 3, 1]"
      ]
     },
     "execution_count": 35,
     "metadata": {},
     "output_type": "execute_result"
    }
   ],
   "source": [
    "# Ejemplos de métodos\n",
    "lista.append(10)\n",
    "lista.pop(1)\n",
    "lista.reverse()\n",
    "lista"
   ]
  },
  {
   "cell_type": "code",
   "execution_count": 36,
   "id": "a0cc93cf",
   "metadata": {},
   "outputs": [
    {
     "data": {
      "text/plain": [
       "1"
      ]
     },
     "execution_count": 36,
     "metadata": {},
     "output_type": "execute_result"
    }
   ],
   "source": [
    "lista.index(3)"
   ]
  },
  {
   "cell_type": "markdown",
   "id": "b974903b",
   "metadata": {},
   "source": [
    "### Argumentos posicionales\n",
    "Puedes implementar funciones con todos los argumentos que quieras. Ahora bien, ten en cuenta dos cosas:\n",
    "\n",
    "1. **El orden** de los argumentos. Cuando llamemos a la función, tenemos que seguir el mismo orden de argumentos que en la declaración de la función.\n",
    "2. **Son obligatorios**. Si los declaramos en la función, después al llamarla, tenemos que poner todos sus argumentos. Luego veremos que hay una manera de poner argumentos opcionales."
   ]
  },
  {
   "cell_type": "code",
   "execution_count": 42,
   "id": "7ec7a2b2",
   "metadata": {},
   "outputs": [],
   "source": [
    "def argumentos_orden(x1, x2, x3, x4):\n",
    "    return [x1, x2, x3, x4]"
   ]
  },
  {
   "cell_type": "code",
   "execution_count": 43,
   "id": "379710fc",
   "metadata": {},
   "outputs": [
    {
     "data": {
      "text/plain": [
       "[5, 1, 3, 10]"
      ]
     },
     "execution_count": 43,
     "metadata": {},
     "output_type": "execute_result"
    }
   ],
   "source": [
    "argumentos_orden(5,1,3,10)"
   ]
  },
  {
   "cell_type": "markdown",
   "id": "f472e1cd",
   "metadata": {},
   "source": [
    "### Argumentos variables\n",
    "En los ejemplos anteriores teníamos que fijar un número concreto de argumentos, pero hay ocasiones que no tenemos seguro cuántos argumentos son. Por suerte, las funciones de Python nos aportan esa flexibilidad mediante `*`\n",
    "\n",
    "Veamos cómo implementar una función multiplicadora con numero variable de argumentos"
   ]
  },
  {
   "cell_type": "code",
   "execution_count": 48,
   "id": "d6ab94d5",
   "metadata": {},
   "outputs": [
    {
     "data": {
      "text/plain": [
       "2352.0"
      ]
     },
     "execution_count": 48,
     "metadata": {},
     "output_type": "execute_result"
    }
   ],
   "source": [
    "def multiplicador(*args, dividir):\n",
    "    total = 1\n",
    "    for arg in args:\n",
    "        total = total*arg\n",
    "    return total/dividir\n",
    "\n",
    "multiplicador(1,5,4,7,84, dividir = 5)"
   ]
  },
  {
   "cell_type": "code",
   "execution_count": 50,
   "id": "1b4c66e5",
   "metadata": {},
   "outputs": [
    {
     "data": {
      "text/plain": [
       "['clave3', 'clave5']"
      ]
     },
     "execution_count": 50,
     "metadata": {},
     "output_type": "execute_result"
    }
   ],
   "source": [
    "def movil(**kwargs):\n",
    "    lista = []\n",
    "    for key, value in kwargs.items():\n",
    "        if value == 10:\n",
    "            lista.append(key)\n",
    "    return lista\n",
    "\n",
    "movil(clave1=20, clave2='abc', clave3=10, clave4=11, clave5=10)"
   ]
  },
  {
   "cell_type": "markdown",
   "id": "89734e35",
   "metadata": {},
   "source": [
    "### Documentar funciones\n",
    "Como ya vimos en el primer Notebook, hay que documentar el código en la medida de lo posible. En particular, es necesario documentar bien las funciones. porque muchas veces las importamos de otro sitio, las usamos porque funcionan, pero no sabemos muy bien que hacen. Es por ello, que en Python existe un atributo dentro de las funciones, módulos, métodos o clases, que permite acceder a \"sus comentarios\", a su documentación, donde nos indica qué es lo que hace.\n",
    "\n",
    "Este atributo especial se llama *docstring*, y se accede mediante `nombre_funcion.__doc__`"
   ]
  },
  {
   "cell_type": "code",
   "execution_count": 52,
   "id": "0d4835b0",
   "metadata": {},
   "outputs": [
    {
     "name": "stdout",
     "output_type": "stream",
     "text": [
      "str(object='') -> str\n",
      "str(bytes_or_buffer[, encoding[, errors]]) -> str\n",
      "\n",
      "Create a new string object from the given object. If encoding or\n",
      "errors is specified, then the object must expose a data buffer\n",
      "that will be decoded using the given encoding and error handler.\n",
      "Otherwise, returns the result of object.__str__() (if defined)\n",
      "or repr(object).\n",
      "encoding defaults to sys.getdefaultencoding().\n",
      "errors defaults to 'strict'.\n"
     ]
    }
   ],
   "source": [
    "print(str.__doc__)"
   ]
  },
  {
   "cell_type": "markdown",
   "id": "2d3fbc5d",
   "metadata": {},
   "source": [
    "Los comentarios que se ponen pueden ser de línea o multilínea. Para funciones sencillas puede ser suficiente con una sola línea de comentario, pero si fuesen más complejas, el docstring debería llevar la siguiente información:\n",
    "\n",
    "Descripción de la función  \n",
    "Argumentos de entrada: nombre, tipos y qué es lo que hacen  \n",
    "Argumentos de salida: nombre, tipos y qué son  "
   ]
  },
  {
   "cell_type": "code",
   "execution_count": 55,
   "id": "ec03fb7c",
   "metadata": {},
   "outputs": [],
   "source": [
    "def greet(name:str):\n",
    "    '''\n",
    "    Function to greet a person\n",
    "\n",
    "    Parameters:\n",
    "    name (str): The name of the person to greet\n",
    "\n",
    "    Returns:\n",
    "    str: A personalized greeting directed to the person\n",
    "    '''\n",
    "    return 'Hola, ' + name + '! ¿Cómo estás?'"
   ]
  },
  {
   "cell_type": "code",
   "execution_count": 56,
   "id": "139f0db6",
   "metadata": {},
   "outputs": [
    {
     "name": "stdout",
     "output_type": "stream",
     "text": [
      "\n",
      "    Function to greet a person\n",
      "\n",
      "    Parameters:\n",
      "    name (str): The name of the person to greet\n",
      "\n",
      "    Returns:\n",
      "    str: A personalized greeting directed to the person\n",
      "    \n"
     ]
    }
   ],
   "source": [
    "print(greet.__doc__)"
   ]
  },
  {
   "cell_type": "code",
   "execution_count": 57,
   "id": "fd7fe768",
   "metadata": {},
   "outputs": [
    {
     "data": {
      "text/plain": [
       "'Hola, Fernando! ¿Cómo estás?'"
      ]
     },
     "execution_count": 57,
     "metadata": {},
     "output_type": "execute_result"
    }
   ],
   "source": [
    "greet('Fernando')"
   ]
  },
  {
   "cell_type": "code",
   "execution_count": null,
   "id": "638d5068",
   "metadata": {},
   "outputs": [],
   "source": []
  }
 ],
 "metadata": {
  "kernelspec": {
   "display_name": "Python 3 (ipykernel)",
   "language": "python",
   "name": "python3"
  },
  "language_info": {
   "codemirror_mode": {
    "name": "ipython",
    "version": 3
   },
   "file_extension": ".py",
   "mimetype": "text/x-python",
   "name": "python",
   "nbconvert_exporter": "python",
   "pygments_lexer": "ipython3",
   "version": "3.12.3"
  }
 },
 "nbformat": 4,
 "nbformat_minor": 5
}
