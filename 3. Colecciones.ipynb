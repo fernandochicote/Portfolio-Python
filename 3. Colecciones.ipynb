{
 "cells": [
  {
   "cell_type": "markdown",
   "id": "402e0b64",
   "metadata": {},
   "source": [
    "# Colecciones"
   ]
  },
  {
   "cell_type": "markdown",
   "id": "62221055",
   "metadata": {},
   "source": [
    "Las colecciones son una manera de agrupar varios elementos. En otros notebooks vimos cómo funcionan las listas, que es la colección más usada, pero se trata solo de la punta del iceberg. Con Python tenemos varias manera de almacenar conjuntos de datos, dependiendo del tipo de dato, finalidad, tipo de acceso y rendimiento."
   ]
  },
  {
   "cell_type": "markdown",
   "id": "7e2086cf",
   "metadata": {},
   "source": [
    "## Índice\n",
    "\n",
    "1. [Listas](#listas)\n",
    "2. [Tuplas](#tuplas)\n",
    "3. [Diccionarios](#dicc)\n",
    "4. [Sets](#sets)"
   ]
  },
  {
   "cell_type": "markdown",
   "id": "6e2ee0b4",
   "metadata": {},
   "source": [
    "<a id=\"listas\"></a>\n",
    "## 1. Listas"
   ]
  },
  {
   "cell_type": "markdown",
   "id": "7544c8e0",
   "metadata": {},
   "source": [
    "Una lista es una secuencia de valores, que pueden ser de cualquier tipo. Son mutables, por lo que podremos modificarlas"
   ]
  },
  {
   "cell_type": "code",
   "execution_count": 3,
   "id": "e5e8671a",
   "metadata": {},
   "outputs": [],
   "source": [
    "l1 = [10,20,30,40]\n",
    "l2 = ['uno', 'dos', 'tres']\n",
    "l3 = ['Hola', 2.34, 5, [10,20]]"
   ]
  },
  {
   "cell_type": "code",
   "execution_count": 4,
   "id": "05d856bd",
   "metadata": {},
   "outputs": [
    {
     "data": {
      "text/plain": [
       "list"
      ]
     },
     "execution_count": 4,
     "metadata": {},
     "output_type": "execute_result"
    }
   ],
   "source": [
    "type(l3)"
   ]
  },
  {
   "cell_type": "markdown",
   "id": "3011cf59",
   "metadata": {},
   "source": [
    "El operador corchete permite acceder a los elementos de una lista (los índices comienzan por 0)"
   ]
  },
  {
   "cell_type": "code",
   "execution_count": 5,
   "id": "b77fcc14",
   "metadata": {},
   "outputs": [
    {
     "data": {
      "text/plain": [
       "10"
      ]
     },
     "execution_count": 5,
     "metadata": {},
     "output_type": "execute_result"
    }
   ],
   "source": [
    "l1[0]"
   ]
  },
  {
   "cell_type": "code",
   "execution_count": 6,
   "id": "5a8396ae",
   "metadata": {},
   "outputs": [
    {
     "data": {
      "text/plain": [
       "20"
      ]
     },
     "execution_count": 6,
     "metadata": {},
     "output_type": "execute_result"
    }
   ],
   "source": [
    "l3[3][1]"
   ]
  },
  {
   "cell_type": "code",
   "execution_count": 7,
   "id": "be45b3a0",
   "metadata": {},
   "outputs": [
    {
     "data": {
      "text/plain": [
       "[10, 20]"
      ]
     },
     "execution_count": 7,
     "metadata": {},
     "output_type": "execute_result"
    }
   ],
   "source": [
    "l3[-1]"
   ]
  },
  {
   "cell_type": "code",
   "execution_count": 8,
   "id": "271d2740",
   "metadata": {},
   "outputs": [
    {
     "data": {
      "text/plain": [
       "['Hola', 2.34]"
      ]
     },
     "execution_count": 8,
     "metadata": {},
     "output_type": "execute_result"
    }
   ],
   "source": [
    "l3[0:2]"
   ]
  },
  {
   "cell_type": "code",
   "execution_count": 9,
   "id": "fbccd698",
   "metadata": {},
   "outputs": [
    {
     "data": {
      "text/plain": [
       "[20, 30]"
      ]
     },
     "execution_count": 9,
     "metadata": {},
     "output_type": "execute_result"
    }
   ],
   "source": [
    "l1[-3:-1]"
   ]
  },
  {
   "cell_type": "code",
   "execution_count": 11,
   "id": "20957434",
   "metadata": {},
   "outputs": [
    {
     "data": {
      "text/plain": [
       "[10, 20, 30]"
      ]
     },
     "execution_count": 11,
     "metadata": {},
     "output_type": "execute_result"
    }
   ],
   "source": [
    "l1[:-1]"
   ]
  },
  {
   "cell_type": "markdown",
   "id": "a9f61ff6",
   "metadata": {},
   "source": [
    "La función `len` nos da la longitud de una lista"
   ]
  },
  {
   "cell_type": "code",
   "execution_count": 10,
   "id": "1def63c5",
   "metadata": {},
   "outputs": [
    {
     "data": {
      "text/plain": [
       "4"
      ]
     },
     "execution_count": 10,
     "metadata": {},
     "output_type": "execute_result"
    }
   ],
   "source": [
    "len(l3)"
   ]
  },
  {
   "cell_type": "markdown",
   "id": "0a0e8128",
   "metadata": {},
   "source": [
    "Para añadir un elemento a una lista utilizamos el método `append()`"
   ]
  },
  {
   "cell_type": "code",
   "execution_count": 12,
   "id": "aa10778c",
   "metadata": {},
   "outputs": [],
   "source": [
    "l3.append(20)"
   ]
  },
  {
   "cell_type": "code",
   "execution_count": 13,
   "id": "bde58c97",
   "metadata": {},
   "outputs": [
    {
     "data": {
      "text/plain": [
       "['Hola', 2.34, 5, [10, 20], 20]"
      ]
     },
     "execution_count": 13,
     "metadata": {},
     "output_type": "execute_result"
    }
   ],
   "source": [
    "l3"
   ]
  },
  {
   "cell_type": "code",
   "execution_count": 15,
   "id": "294483b6",
   "metadata": {},
   "outputs": [
    {
     "data": {
      "text/plain": [
       "5"
      ]
     },
     "execution_count": 15,
     "metadata": {},
     "output_type": "execute_result"
    }
   ],
   "source": [
    "len(l3)"
   ]
  },
  {
   "cell_type": "markdown",
   "id": "97029797",
   "metadata": {},
   "source": [
    "Para eliminar elementos se usar `remove`. Si no existe, da error, así que cuidado con esta sentencia.\n",
    "\n",
    "En ocasiones resulta útil quedarnos con el elemento eliminado. Para ello usamos `pop()`, que elimina el elemento que le indiquemos, y además devuelve ese elemento por lo que podremos guardarlo en una variable para usarlo después."
   ]
  },
  {
   "cell_type": "code",
   "execution_count": 17,
   "id": "ea29f64d",
   "metadata": {},
   "outputs": [],
   "source": [
    "cars = ['VW', 'Seat', 'BMW', 'VW']\n",
    "var1 = cars.pop(1)"
   ]
  },
  {
   "cell_type": "code",
   "execution_count": 18,
   "id": "f6ee5d7c",
   "metadata": {},
   "outputs": [
    {
     "name": "stdout",
     "output_type": "stream",
     "text": [
      "['VW', 'BMW', 'VW']\n",
      "Seat\n"
     ]
    }
   ],
   "source": [
    "print(cars)\n",
    "print(var1)"
   ]
  },
  {
   "cell_type": "code",
   "execution_count": 19,
   "id": "cb6d3907",
   "metadata": {},
   "outputs": [],
   "source": [
    "cars.remove(\"BMW\")"
   ]
  },
  {
   "cell_type": "code",
   "execution_count": 21,
   "id": "c6f140af",
   "metadata": {},
   "outputs": [
    {
     "ename": "ValueError",
     "evalue": "list.remove(x): x not in list",
     "output_type": "error",
     "traceback": [
      "\u001b[1;31m---------------------------------------------------------------------------\u001b[0m",
      "\u001b[1;31mValueError\u001b[0m                                Traceback (most recent call last)",
      "Cell \u001b[1;32mIn[21], line 2\u001b[0m\n\u001b[0;32m      1\u001b[0m cars\n\u001b[1;32m----> 2\u001b[0m cars\u001b[38;5;241m.\u001b[39mremove(\u001b[38;5;124m\"\u001b[39m\u001b[38;5;124mBMW\u001b[39m\u001b[38;5;124m\"\u001b[39m)\n",
      "\u001b[1;31mValueError\u001b[0m: list.remove(x): x not in list"
     ]
    }
   ],
   "source": [
    "cars\n",
    "cars.remove(\"BMW\")"
   ]
  },
  {
   "cell_type": "markdown",
   "id": "edb536fb",
   "metadata": {},
   "source": [
    "### Comprensión de listas"
   ]
  },
  {
   "cell_type": "markdown",
   "id": "b5b6d916",
   "metadata": {},
   "source": [
    "La comprensión de listas, del inglés **list comprehensions**, es una funcionalidad que nos permite crear listas avanzadas en una misma línea de código."
   ]
  },
  {
   "attachments": {
    "list-comprehension.png": {
     "image/png": "[encoded data removed]"
    }
   },
   "cell_type": "markdown",
   "id": "97cd825f",
   "metadata": {},
   "source": [
    "![list-comprehension.png](attachment:list-comprehension.png)"
   ]
  },
  {
   "cell_type": "markdown",
   "id": "993da339",
   "metadata": {},
   "source": [
    "**Ejemplo:** Dividir entre 100 los elementos positivos de una lista `L = [10, 5, -1, 20, 30, -100, 0, -7, -8, -9, 200]`"
   ]
  },
  {
   "cell_type": "code",
   "execution_count": 22,
   "id": "73323f2a",
   "metadata": {},
   "outputs": [
    {
     "data": {
      "text/plain": [
       "[0.1, 0.05, 0.2, 0.3, 2.0]"
      ]
     },
     "execution_count": 22,
     "metadata": {},
     "output_type": "execute_result"
    }
   ],
   "source": [
    "L = [10, 5, -1, 20, 30, -100, 0, -7, -8, -9, 200]\n",
    "\n",
    "lista = [i/100 for i in L if i > 0]\n",
    "lista"
   ]
  },
  {
   "cell_type": "markdown",
   "id": "871574bd",
   "metadata": {},
   "source": [
    "<a id=\"tuplas\"></a>\n",
    "## 2. Tuplas"
   ]
  },
  {
   "cell_type": "markdown",
   "id": "9c357886",
   "metadata": {},
   "source": [
    "Son muy similares a las listas. La principal diferencia es que las tuplas son inmutables: una vez creada la tupla con sus elementos iniciales, no se puede modificar\n",
    "\n",
    "Las tuplas se suelen usar para pequeñas colecciones de datos que no van a cambiar a lo largo del programa, como es el caso de las constantes.\n",
    "\n",
    "Si las listas se construían mediante corchetes `[]`, las tuplas lo hacen con los paréntesis `()`"
   ]
  },
  {
   "cell_type": "code",
   "execution_count": 23,
   "id": "7c26c143",
   "metadata": {},
   "outputs": [],
   "source": [
    "tupla = (3, 'hola', 5.2)"
   ]
  },
  {
   "cell_type": "code",
   "execution_count": 24,
   "id": "76a559a0",
   "metadata": {},
   "outputs": [
    {
     "data": {
      "text/plain": [
       "tuple"
      ]
     },
     "execution_count": 24,
     "metadata": {},
     "output_type": "execute_result"
    }
   ],
   "source": [
    "type(tupla)"
   ]
  },
  {
   "cell_type": "code",
   "execution_count": 25,
   "id": "c0004f03",
   "metadata": {},
   "outputs": [
    {
     "data": {
      "text/plain": [
       "5.2"
      ]
     },
     "execution_count": 25,
     "metadata": {},
     "output_type": "execute_result"
    }
   ],
   "source": [
    "tupla[-1]"
   ]
  },
  {
   "cell_type": "code",
   "execution_count": 26,
   "id": "ee704f8c",
   "metadata": {},
   "outputs": [
    {
     "ename": "TypeError",
     "evalue": "'tuple' object does not support item assignment",
     "output_type": "error",
     "traceback": [
      "\u001b[1;31m---------------------------------------------------------------------------\u001b[0m",
      "\u001b[1;31mTypeError\u001b[0m                                 Traceback (most recent call last)",
      "Cell \u001b[1;32mIn[26], line 1\u001b[0m\n\u001b[1;32m----> 1\u001b[0m tupla[\u001b[38;5;241m0\u001b[39m]\u001b[38;5;241m=\u001b[39m\u001b[38;5;241m10\u001b[39m\n",
      "\u001b[1;31mTypeError\u001b[0m: 'tuple' object does not support item assignment"
     ]
    }
   ],
   "source": [
    "tupla[0]=10"
   ]
  },
  {
   "cell_type": "markdown",
   "id": "5feefbc0",
   "metadata": {},
   "source": [
    "<a id=\"dicc\"></a>\n",
    "## 3. Diccionarios"
   ]
  },
  {
   "cell_type": "markdown",
   "id": "35748529",
   "metadata": {},
   "source": [
    "Son similares a una lista, pero más genéricos, ya que los índices pueden ser de cualquier tipo. Los diccionarios son asignaciones entre **claves** y **valores**"
   ]
  },
  {
   "cell_type": "code",
   "execution_count": 27,
   "id": "f86c583a",
   "metadata": {},
   "outputs": [
    {
     "data": {
      "text/plain": [
       "dict"
      ]
     },
     "execution_count": 27,
     "metadata": {},
     "output_type": "execute_result"
    }
   ],
   "source": [
    "equipo = {\n",
    "    'Rafa': 10,\n",
    "    'Antonio': 20,\n",
    "    'Maria': 11,\n",
    "    'Ana':10\n",
    "}\n",
    "\n",
    "type(equipo)"
   ]
  },
  {
   "cell_type": "markdown",
   "id": "7592f38f",
   "metadata": {},
   "source": [
    "Para acceder a un elemento de un diccionario lo hago a través de su clave"
   ]
  },
  {
   "cell_type": "code",
   "execution_count": 29,
   "id": "3b8fabb5",
   "metadata": {},
   "outputs": [
    {
     "data": {
      "text/plain": [
       "False"
      ]
     },
     "execution_count": 29,
     "metadata": {},
     "output_type": "execute_result"
    }
   ],
   "source": [
    "equipo['Rafa'] == 20"
   ]
  },
  {
   "cell_type": "code",
   "execution_count": 30,
   "id": "9e1e8f53",
   "metadata": {},
   "outputs": [],
   "source": [
    "temperaturas = {'Ene': 1.4,\n",
    "                'Feb': 2.7,\n",
    "                'Mar': 7.1}"
   ]
  },
  {
   "cell_type": "code",
   "execution_count": 31,
   "id": "a006a9a0",
   "metadata": {},
   "outputs": [
    {
     "data": {
      "text/plain": [
       "7.1"
      ]
     },
     "execution_count": 31,
     "metadata": {},
     "output_type": "execute_result"
    }
   ],
   "source": [
    "temperaturas['Mar']"
   ]
  },
  {
   "cell_type": "markdown",
   "id": "a104e73a",
   "metadata": {},
   "source": [
    "Para iterar sobre un diccionario:"
   ]
  },
  {
   "cell_type": "code",
   "execution_count": 32,
   "id": "8cd0d9b4",
   "metadata": {},
   "outputs": [
    {
     "name": "stdout",
     "output_type": "stream",
     "text": [
      "Rafa - 10\n",
      "Antonio - 20\n",
      "Maria - 11\n",
      "Ana - 10\n"
     ]
    }
   ],
   "source": [
    "for key, value in equipo.items():\n",
    "    print(key, '-', value)"
   ]
  },
  {
   "cell_type": "code",
   "execution_count": 34,
   "id": "d4a1f593",
   "metadata": {},
   "outputs": [
    {
     "name": "stdout",
     "output_type": "stream",
     "text": [
      "Ene : 1.4\n",
      "Feb : 2.7\n",
      "Mar : 7.1\n"
     ]
    }
   ],
   "source": [
    "for k, v in temperaturas.items():\n",
    "    print(k, ':', v)"
   ]
  },
  {
   "cell_type": "code",
   "execution_count": 35,
   "id": "fc0adf23",
   "metadata": {},
   "outputs": [
    {
     "data": {
      "text/plain": [
       "9999"
      ]
     },
     "execution_count": 35,
     "metadata": {},
     "output_type": "execute_result"
    }
   ],
   "source": [
    "temperaturas.get('Dic', 9999)"
   ]
  },
  {
   "cell_type": "code",
   "execution_count": 36,
   "id": "c73cb960",
   "metadata": {},
   "outputs": [
    {
     "data": {
      "text/plain": [
       "{'Ene': 1.4, 'Feb': 2.7, 'Mar': 7.1}"
      ]
     },
     "execution_count": 36,
     "metadata": {},
     "output_type": "execute_result"
    }
   ],
   "source": [
    "temperaturas"
   ]
  },
  {
   "cell_type": "code",
   "execution_count": 37,
   "id": "92eac7a8",
   "metadata": {},
   "outputs": [],
   "source": [
    "temperaturas['Dic'] = 3"
   ]
  },
  {
   "cell_type": "code",
   "execution_count": 38,
   "id": "b1033d70",
   "metadata": {},
   "outputs": [
    {
     "data": {
      "text/plain": [
       "{'Ene': 1.4, 'Feb': 2.7, 'Mar': 7.1, 'Dic': 3}"
      ]
     },
     "execution_count": 38,
     "metadata": {},
     "output_type": "execute_result"
    }
   ],
   "source": [
    "temperaturas"
   ]
  },
  {
   "cell_type": "code",
   "execution_count": 39,
   "id": "12e891dd",
   "metadata": {},
   "outputs": [],
   "source": [
    "temperaturas['Dic'] = 4"
   ]
  },
  {
   "cell_type": "code",
   "execution_count": 40,
   "id": "317188ea",
   "metadata": {},
   "outputs": [
    {
     "data": {
      "text/plain": [
       "{'Ene': 1.4, 'Feb': 2.7, 'Mar': 7.1, 'Dic': 4}"
      ]
     },
     "execution_count": 40,
     "metadata": {},
     "output_type": "execute_result"
    }
   ],
   "source": [
    "temperaturas"
   ]
  },
  {
   "cell_type": "markdown",
   "id": "20001bb0",
   "metadata": {},
   "source": [
    "<a id=\"sets\"></a>\n",
    "## 4. Sets\n",
    "Otra colección *bulit-in* de Python, compuesta por un conjunto de *claves*. Muy parecidos a los diccionarios. Tienen las siguientes características:\n",
    "* **Mutables**: podemos modificarlos una vez se hayan creado\n",
    "* **No ordenado**\n",
    "* **Elementos unicos**: se compone de un conjunto de claves únicas\n",
    "\n",
    "**¿Cuándo usar sets?** Cuando estemos buscando unicidad en nuestros datos y no nos importe el orden.\n",
    "\n",
    "Si sintaxis es:\n",
    ">```Python\n",
    "> mi_set = {elemento1, elemento2, elemento3}\n",
    ">```\n",
    "\n",
    "Tiene una sintaxis muy parecida a la de los diccionarios, pero en este caso no se utilizan los `:`. "
   ]
  }
 ],
 "metadata": {
  "kernelspec": {
   "display_name": "Python 3 (ipykernel)",
   "language": "python",
   "name": "python3"
  },
  "language_info": {
   "codemirror_mode": {
    "name": "ipython",
    "version": 3
   },
   "file_extension": ".py",
   "mimetype": "text/x-python",
   "name": "python",
   "nbconvert_exporter": "python",
   "pygments_lexer": "ipython3",
   "version": "3.12.3"
  }
 },
 "nbformat": 4,
 "nbformat_minor": 5
}
