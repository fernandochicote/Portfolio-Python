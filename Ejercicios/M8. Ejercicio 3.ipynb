{
 "cells": [
  {
   "cell_type": "markdown",
   "metadata": {},
   "source": [
    "# M8. Ejercicio 3"
   ]
  },
  {
   "cell_type": "markdown",
   "metadata": {},
   "source": [
    "https://pypi.org/project/PyMySQL/\n",
    "\n",
    "Introduzco los parametros de conexión como indica la documentación de la libreria pero lo hago con un diccionario y luego los desempaqueto.\n",
    "En Python, los dos puntos seguidos (**) se utilizan para desempaquetar un diccionario. En este contexto, **db_settings está desempaquetando el diccionario db_settings y pasando sus elementos como argumentos de palabra clave a la función pymysql.connect(). Esto es útil cuando tienes un diccionario con argumentos que quieres pasar a una función como argumentos de palabra clave. En este caso, pymysql.connect() espera argumentos de palabra clave como host, port, user, password, etc., y **db_settings hace que estos argumentos se pasen correctamente."
   ]
  },
  {
   "cell_type": "code",
   "execution_count": 1,
   "metadata": {},
   "outputs": [],
   "source": [
    "import pymysql\n",
    "import pandas as pd\n",
    "\n",
    "database_host = 'db.relational-data.org'\n",
    "username = 'guest'\n",
    "password = 'relational'\n",
    "database_name = 'employee'\n",
    "port = 3306\n",
    "\n",
    "# Datos de conexión a la base de datos\n",
    "db_settings = {\n",
    "    \"host\": database_host, \n",
    "    \"port\": port,\n",
    "    \"user\": username, \n",
    "    \"password\": password,\n",
    "    \"db\": database_name, \n",
    "}\n",
    "\n",
    "# Crear la conexión\n",
    "connection = pymysql.connect(**db_settings)"
   ]
  },
  {
   "cell_type": "code",
   "execution_count": 2,
   "metadata": {},
   "outputs": [
    {
     "name": "stderr",
     "output_type": "stream",
     "text": [
      "C:\\Users\\ferna\\AppData\\Local\\Temp\\ipykernel_7048\\397836895.py:15: UserWarning: pandas only supports SQLAlchemy connectable (engine/connection) or database string URI or sqlite3 DBAPI2 connection. Other DBAPI2 objects are not tested. Please consider using SQLAlchemy.\n",
      "  df = pd.read_sql(query, connection).sort_values(['title', 'gender'])\n"
     ]
    },
    {
     "data": {
      "text/html": [
       "<div>\n",
       "<style scoped>\n",
       "    .dataframe tbody tr th:only-of-type {\n",
       "        vertical-align: middle;\n",
       "    }\n",
       "\n",
       "    .dataframe tbody tr th {\n",
       "        vertical-align: top;\n",
       "    }\n",
       "\n",
       "    .dataframe thead th {\n",
       "        text-align: right;\n",
       "    }\n",
       "</style>\n",
       "<table border=\"1\" class=\"dataframe\">\n",
       "  <thead>\n",
       "    <tr style=\"text-align: right;\">\n",
       "      <th></th>\n",
       "      <th>gender</th>\n",
       "      <th>title</th>\n",
       "      <th>max_salary</th>\n",
       "      <th>min_salary</th>\n",
       "      <th>avg_salary</th>\n",
       "    </tr>\n",
       "  </thead>\n",
       "  <tbody>\n",
       "    <tr>\n",
       "      <th>8</th>\n",
       "      <td>F</td>\n",
       "      <td>Assistant Engineer</td>\n",
       "      <td>117968</td>\n",
       "      <td>38850</td>\n",
       "      <td>58964.99</td>\n",
       "    </tr>\n",
       "    <tr>\n",
       "      <th>7</th>\n",
       "      <td>M</td>\n",
       "      <td>Assistant Engineer</td>\n",
       "      <td>133712</td>\n",
       "      <td>39089</td>\n",
       "      <td>59522.61</td>\n",
       "    </tr>\n",
       "    <tr>\n",
       "      <th>9</th>\n",
       "      <td>F</td>\n",
       "      <td>Engineer</td>\n",
       "      <td>138273</td>\n",
       "      <td>38849</td>\n",
       "      <td>59452.37</td>\n",
       "    </tr>\n",
       "    <tr>\n",
       "      <th>2</th>\n",
       "      <td>M</td>\n",
       "      <td>Engineer</td>\n",
       "      <td>140784</td>\n",
       "      <td>38851</td>\n",
       "      <td>59545.21</td>\n",
       "    </tr>\n",
       "    <tr>\n",
       "      <th>13</th>\n",
       "      <td>F</td>\n",
       "      <td>Manager</td>\n",
       "      <td>93193</td>\n",
       "      <td>40000</td>\n",
       "      <td>62037.22</td>\n",
       "    </tr>\n",
       "    <tr>\n",
       "      <th>12</th>\n",
       "      <td>M</td>\n",
       "      <td>Manager</td>\n",
       "      <td>108407</td>\n",
       "      <td>40000</td>\n",
       "      <td>72810.95</td>\n",
       "    </tr>\n",
       "    <tr>\n",
       "      <th>5</th>\n",
       "      <td>F</td>\n",
       "      <td>Senior Engineer</td>\n",
       "      <td>138273</td>\n",
       "      <td>38786</td>\n",
       "      <td>60467.82</td>\n",
       "    </tr>\n",
       "    <tr>\n",
       "      <th>0</th>\n",
       "      <td>M</td>\n",
       "      <td>Senior Engineer</td>\n",
       "      <td>140784</td>\n",
       "      <td>38851</td>\n",
       "      <td>60593.65</td>\n",
       "    </tr>\n",
       "    <tr>\n",
       "      <th>6</th>\n",
       "      <td>F</td>\n",
       "      <td>Senior Staff</td>\n",
       "      <td>152710</td>\n",
       "      <td>38923</td>\n",
       "      <td>70468.82</td>\n",
       "    </tr>\n",
       "    <tr>\n",
       "      <th>3</th>\n",
       "      <td>M</td>\n",
       "      <td>Senior Staff</td>\n",
       "      <td>158220</td>\n",
       "      <td>38735</td>\n",
       "      <td>70472.17</td>\n",
       "    </tr>\n",
       "    <tr>\n",
       "      <th>1</th>\n",
       "      <td>F</td>\n",
       "      <td>Staff</td>\n",
       "      <td>152687</td>\n",
       "      <td>38923</td>\n",
       "      <td>69299.73</td>\n",
       "    </tr>\n",
       "    <tr>\n",
       "      <th>4</th>\n",
       "      <td>M</td>\n",
       "      <td>Staff</td>\n",
       "      <td>158220</td>\n",
       "      <td>38735</td>\n",
       "      <td>69315.31</td>\n",
       "    </tr>\n",
       "    <tr>\n",
       "      <th>11</th>\n",
       "      <td>F</td>\n",
       "      <td>Technique Leader</td>\n",
       "      <td>144434</td>\n",
       "      <td>39071</td>\n",
       "      <td>59238.59</td>\n",
       "    </tr>\n",
       "    <tr>\n",
       "      <th>10</th>\n",
       "      <td>M</td>\n",
       "      <td>Technique Leader</td>\n",
       "      <td>132233</td>\n",
       "      <td>38623</td>\n",
       "      <td>59332.20</td>\n",
       "    </tr>\n",
       "  </tbody>\n",
       "</table>\n",
       "</div>"
      ],
      "text/plain": [
       "   gender               title  max_salary  min_salary  avg_salary\n",
       "8       F  Assistant Engineer      117968       38850    58964.99\n",
       "7       M  Assistant Engineer      133712       39089    59522.61\n",
       "9       F            Engineer      138273       38849    59452.37\n",
       "2       M            Engineer      140784       38851    59545.21\n",
       "13      F             Manager       93193       40000    62037.22\n",
       "12      M             Manager      108407       40000    72810.95\n",
       "5       F     Senior Engineer      138273       38786    60467.82\n",
       "0       M     Senior Engineer      140784       38851    60593.65\n",
       "6       F        Senior Staff      152710       38923    70468.82\n",
       "3       M        Senior Staff      158220       38735    70472.17\n",
       "1       F               Staff      152687       38923    69299.73\n",
       "4       M               Staff      158220       38735    69315.31\n",
       "11      F    Technique Leader      144434       39071    59238.59\n",
       "10      M    Technique Leader      132233       38623    59332.20"
      ]
     },
     "metadata": {},
     "output_type": "display_data"
    }
   ],
   "source": [
    "query = '''\n",
    "            SELECT \n",
    "                e.gender,\n",
    "                t.title,\n",
    "                ROUND(MAX(s.salary), 2) AS max_salary,\n",
    "                ROUND(MIN(s.salary), 2) AS min_salary,\n",
    "                ROUND(AVG(s.salary), 2) AS avg_salary\n",
    "            FROM employees as e\n",
    "            LEFT JOIN titles as t ON e.emp_no = t.emp_no\n",
    "            LEFT JOIN salaries as s ON e.emp_no = s.emp_no\n",
    "            GROUP BY 1, 2\n",
    "        '''\n",
    "\n",
    "# Ejecutar la consulta y obtener los resultados en un DataFrame de pandas\n",
    "df = pd.read_sql(query, connection).sort_values(['title', 'gender'])\n",
    "\n",
    "# Mostrar el resultado\n",
    "display(df)"
   ]
  },
  {
   "cell_type": "markdown",
   "metadata": {},
   "source": [
    "Con la ayuda de ChatGPT he usado plotly para pintar un grafico interactivo en el que podemos ver con los salarios para cada puesto (maximos, minimos y medios) suelen ser mayores para hombres sobre todo en el puesto de manager."
   ]
  },
  {
   "cell_type": "code",
   "execution_count": 3,
   "metadata": {},
   "outputs": [
    {
     "data": {
      "application/vnd.plotly.v1+json": {
       "config": {
        "plotlyServerURL": "https://plot.ly"
       },
       "data": [
        {
         "legendgroup": "F",
         "marker": {
          "color": "red"
         },
         "name": "F - Salario Promedio",
         "type": "bar",
         "visible": true,
         "x": [
          "Assistant Engineer",
          "Engineer",
          "Manager",
          "Senior Engineer",
          "Senior Staff",
          "Staff",
          "Technique Leader"
         ],
         "y": [
          58964.99,
          59452.37,
          62037.22,
          60467.82,
          70468.82,
          69299.73,
          59238.59
         ]
        },
        {
         "legendgroup": "F",
         "marker": {
          "color": "red"
         },
         "name": "F - Salario Mínimo",
         "type": "bar",
         "visible": false,
         "x": [
          "Assistant Engineer",
          "Engineer",
          "Manager",
          "Senior Engineer",
          "Senior Staff",
          "Staff",
          "Technique Leader"
         ],
         "y": [
          38850,
          38849,
          40000,
          38786,
          38923,
          38923,
          39071
         ]
        },
        {
         "legendgroup": "F",
         "marker": {
          "color": "red"
         },
         "name": "F - Salario Máximo",
         "type": "bar",
         "visible": false,
         "x": [
          "Assistant Engineer",
          "Engineer",
          "Manager",
          "Senior Engineer",
          "Senior Staff",
          "Staff",
          "Technique Leader"
         ],
         "y": [
          117968,
          138273,
          93193,
          138273,
          152710,
          152687,
          144434
         ]
        },
        {
         "legendgroup": "M",
         "marker": {
          "color": "blue"
         },
         "name": "M - Salario Promedio",
         "type": "bar",
         "visible": true,
         "x": [
          "Assistant Engineer",
          "Engineer",
          "Manager",
          "Senior Engineer",
          "Senior Staff",
          "Staff",
          "Technique Leader"
         ],
         "y": [
          59522.61,
          59545.21,
          72810.95,
          60593.65,
          70472.17,
          69315.31,
          59332.2
         ]
        },
        {
         "legendgroup": "M",
         "marker": {
          "color": "blue"
         },
         "name": "M - Salario Mínimo",
         "type": "bar",
         "visible": false,
         "x": [
          "Assistant Engineer",
          "Engineer",
          "Manager",
          "Senior Engineer",
          "Senior Staff",
          "Staff",
          "Technique Leader"
         ],
         "y": [
          39089,
          38851,
          40000,
          38851,
          38735,
          38735,
          38623
         ]
        },
        {
         "legendgroup": "M",
         "marker": {
          "color": "blue"
         },
         "name": "M - Salario Máximo",
         "type": "bar",
         "visible": false,
         "x": [
          "Assistant Engineer",
          "Engineer",
          "Manager",
          "Senior Engineer",
          "Senior Staff",
          "Staff",
          "Technique Leader"
         ],
         "y": [
          133712,
          140784,
          108407,
          140784,
          158220,
          158220,
          132233
         ]
        }
       ],
       "layout": {
        "barmode": "group",
        "template": {
         "data": {
          "bar": [
           {
            "error_x": {
             "color": "#2a3f5f"
            },
            "error_y": {
             "color": "#2a3f5f"
            },
            "marker": {
             "line": {
              "color": "#E5ECF6",
              "width": 0.5
             },
             "pattern": {
              "fillmode": "overlay",
              "size": 10,
              "solidity": 0.2
             }
            },
            "type": "bar"
           }
          ],
          "barpolar": [
           {
            "marker": {
             "line": {
              "color": "#E5ECF6",
              "width": 0.5
             },
             "pattern": {
              "fillmode": "overlay",
              "size": 10,
              "solidity": 0.2
             }
            },
            "type": "barpolar"
           }
          ],
          "carpet": [
           {
            "aaxis": {
             "endlinecolor": "#2a3f5f",
             "gridcolor": "white",
             "linecolor": "white",
             "minorgridcolor": "white",
             "startlinecolor": "#2a3f5f"
            },
            "baxis": {
             "endlinecolor": "#2a3f5f",
             "gridcolor": "white",
             "linecolor": "white",
             "minorgridcolor": "white",
             "startlinecolor": "#2a3f5f"
            },
            "type": "carpet"
           }
          ],
          "choropleth": [
           {
            "colorbar": {
             "outlinewidth": 0,
             "ticks": ""
            },
            "type": "choropleth"
           }
          ],
          "contour": [
           {
            "colorbar": {
             "outlinewidth": 0,
             "ticks": ""
            },
            "colorscale": [
             [
              0,
              "#0d0887"
             ],
             [
              0.1111111111111111,
              "#46039f"
             ],
             [
              0.2222222222222222,
              "#7201a8"
             ],
             [
              0.3333333333333333,
              "#9c179e"
             ],
             [
              0.4444444444444444,
              "#bd3786"
             ],
             [
              0.5555555555555556,
              "#d8576b"
             ],
             [
              0.6666666666666666,
              "#ed7953"
             ],
             [
              0.7777777777777778,
              "#fb9f3a"
             ],
             [
              0.8888888888888888,
              "#fdca26"
             ],
             [
              1,
              "#f0f921"
             ]
            ],
            "type": "contour"
           }
          ],
          "contourcarpet": [
           {
            "colorbar": {
             "outlinewidth": 0,
             "ticks": ""
            },
            "type": "contourcarpet"
           }
          ],
          "heatmap": [
           {
            "colorbar": {
             "outlinewidth": 0,
             "ticks": ""
            },
            "colorscale": [
             [
              0,
              "#0d0887"
             ],
             [
              0.1111111111111111,
              "#46039f"
             ],
             [
              0.2222222222222222,
              "#7201a8"
             ],
             [
              0.3333333333333333,
              "#9c179e"
             ],
             [
              0.4444444444444444,
              "#bd3786"
             ],
             [
              0.5555555555555556,
              "#d8576b"
             ],
             [
              0.6666666666666666,
              "#ed7953"
             ],
             [
              0.7777777777777778,
              "#fb9f3a"
             ],
             [
              0.8888888888888888,
              "#fdca26"
             ],
             [
              1,
              "#f0f921"
             ]
            ],
            "type": "heatmap"
           }
          ],
          "heatmapgl": [
           {
            "colorbar": {
             "outlinewidth": 0,
             "ticks": ""
            },
            "colorscale": [
             [
              0,
              "#0d0887"
             ],
             [
              0.1111111111111111,
              "#46039f"
             ],
             [
              0.2222222222222222,
              "#7201a8"
             ],
             [
              0.3333333333333333,
              "#9c179e"
             ],
             [
              0.4444444444444444,
              "#bd3786"
             ],
             [
              0.5555555555555556,
              "#d8576b"
             ],
             [
              0.6666666666666666,
              "#ed7953"
             ],
             [
              0.7777777777777778,
              "#fb9f3a"
             ],
             [
              0.8888888888888888,
              "#fdca26"
             ],
             [
              1,
              "#f0f921"
             ]
            ],
            "type": "heatmapgl"
           }
          ],
          "histogram": [
           {
            "marker": {
             "pattern": {
              "fillmode": "overlay",
              "size": 10,
              "solidity": 0.2
             }
            },
            "type": "histogram"
           }
          ],
          "histogram2d": [
           {
            "colorbar": {
             "outlinewidth": 0,
             "ticks": ""
            },
            "colorscale": [
             [
              0,
              "#0d0887"
             ],
             [
              0.1111111111111111,
              "#46039f"
             ],
             [
              0.2222222222222222,
              "#7201a8"
             ],
             [
              0.3333333333333333,
              "#9c179e"
             ],
             [
              0.4444444444444444,
              "#bd3786"
             ],
             [
              0.5555555555555556,
              "#d8576b"
             ],
             [
              0.6666666666666666,
              "#ed7953"
             ],
             [
              0.7777777777777778,
              "#fb9f3a"
             ],
             [
              0.8888888888888888,
              "#fdca26"
             ],
             [
              1,
              "#f0f921"
             ]
            ],
            "type": "histogram2d"
           }
          ],
          "histogram2dcontour": [
           {
            "colorbar": {
             "outlinewidth": 0,
             "ticks": ""
            },
            "colorscale": [
             [
              0,
              "#0d0887"
             ],
             [
              0.1111111111111111,
              "#46039f"
             ],
             [
              0.2222222222222222,
              "#7201a8"
             ],
             [
              0.3333333333333333,
              "#9c179e"
             ],
             [
              0.4444444444444444,
              "#bd3786"
             ],
             [
              0.5555555555555556,
              "#d8576b"
             ],
             [
              0.6666666666666666,
              "#ed7953"
             ],
             [
              0.7777777777777778,
              "#fb9f3a"
             ],
             [
              0.8888888888888888,
              "#fdca26"
             ],
             [
              1,
              "#f0f921"
             ]
            ],
            "type": "histogram2dcontour"
           }
          ],
          "mesh3d": [
           {
            "colorbar": {
             "outlinewidth": 0,
             "ticks": ""
            },
            "type": "mesh3d"
           }
          ],
          "parcoords": [
           {
            "line": {
             "colorbar": {
              "outlinewidth": 0,
              "ticks": ""
             }
            },
            "type": "parcoords"
           }
          ],
          "pie": [
           {
            "automargin": true,
            "type": "pie"
           }
          ],
          "scatter": [
           {
            "fillpattern": {
             "fillmode": "overlay",
             "size": 10,
             "solidity": 0.2
            },
            "type": "scatter"
           }
          ],
          "scatter3d": [
           {
            "line": {
             "colorbar": {
              "outlinewidth": 0,
              "ticks": ""
             }
            },
            "marker": {
             "colorbar": {
              "outlinewidth": 0,
              "ticks": ""
             }
            },
            "type": "scatter3d"
           }
          ],
          "scattercarpet": [
           {
            "marker": {
             "colorbar": {
              "outlinewidth": 0,
              "ticks": ""
             }
            },
            "type": "scattercarpet"
           }
          ],
          "scattergeo": [
           {
            "marker": {
             "colorbar": {
              "outlinewidth": 0,
              "ticks": ""
             }
            },
            "type": "scattergeo"
           }
          ],
          "scattergl": [
           {
            "marker": {
             "colorbar": {
              "outlinewidth": 0,
              "ticks": ""
             }
            },
            "type": "scattergl"
           }
          ],
          "scattermapbox": [
           {
            "marker": {
             "colorbar": {
              "outlinewidth": 0,
              "ticks": ""
             }
            },
            "type": "scattermapbox"
           }
          ],
          "scatterpolar": [
           {
            "marker": {
             "colorbar": {
              "outlinewidth": 0,
              "ticks": ""
             }
            },
            "type": "scatterpolar"
           }
          ],
          "scatterpolargl": [
           {
            "marker": {
             "colorbar": {
              "outlinewidth": 0,
              "ticks": ""
             }
            },
            "type": "scatterpolargl"
           }
          ],
          "scatterternary": [
           {
            "marker": {
             "colorbar": {
              "outlinewidth": 0,
              "ticks": ""
             }
            },
            "type": "scatterternary"
           }
          ],
          "surface": [
           {
            "colorbar": {
             "outlinewidth": 0,
             "ticks": ""
            },
            "colorscale": [
             [
              0,
              "#0d0887"
             ],
             [
              0.1111111111111111,
              "#46039f"
             ],
             [
              0.2222222222222222,
              "#7201a8"
             ],
             [
              0.3333333333333333,
              "#9c179e"
             ],
             [
              0.4444444444444444,
              "#bd3786"
             ],
             [
              0.5555555555555556,
              "#d8576b"
             ],
             [
              0.6666666666666666,
              "#ed7953"
             ],
             [
              0.7777777777777778,
              "#fb9f3a"
             ],
             [
              0.8888888888888888,
              "#fdca26"
             ],
             [
              1,
              "#f0f921"
             ]
            ],
            "type": "surface"
           }
          ],
          "table": [
           {
            "cells": {
             "fill": {
              "color": "#EBF0F8"
             },
             "line": {
              "color": "white"
             }
            },
            "header": {
             "fill": {
              "color": "#C8D4E3"
             },
             "line": {
              "color": "white"
             }
            },
            "type": "table"
           }
          ]
         },
         "layout": {
          "annotationdefaults": {
           "arrowcolor": "#2a3f5f",
           "arrowhead": 0,
           "arrowwidth": 1
          },
          "autotypenumbers": "strict",
          "coloraxis": {
           "colorbar": {
            "outlinewidth": 0,
            "ticks": ""
           }
          },
          "colorscale": {
           "diverging": [
            [
             0,
             "#8e0152"
            ],
            [
             0.1,
             "#c51b7d"
            ],
            [
             0.2,
             "#de77ae"
            ],
            [
             0.3,
             "#f1b6da"
            ],
            [
             0.4,
             "#fde0ef"
            ],
            [
             0.5,
             "#f7f7f7"
            ],
            [
             0.6,
             "#e6f5d0"
            ],
            [
             0.7,
             "#b8e186"
            ],
            [
             0.8,
             "#7fbc41"
            ],
            [
             0.9,
             "#4d9221"
            ],
            [
             1,
             "#276419"
            ]
           ],
           "sequential": [
            [
             0,
             "#0d0887"
            ],
            [
             0.1111111111111111,
             "#46039f"
            ],
            [
             0.2222222222222222,
             "#7201a8"
            ],
            [
             0.3333333333333333,
             "#9c179e"
            ],
            [
             0.4444444444444444,
             "#bd3786"
            ],
            [
             0.5555555555555556,
             "#d8576b"
            ],
            [
             0.6666666666666666,
             "#ed7953"
            ],
            [
             0.7777777777777778,
             "#fb9f3a"
            ],
            [
             0.8888888888888888,
             "#fdca26"
            ],
            [
             1,
             "#f0f921"
            ]
           ],
           "sequentialminus": [
            [
             0,
             "#0d0887"
            ],
            [
             0.1111111111111111,
             "#46039f"
            ],
            [
             0.2222222222222222,
             "#7201a8"
            ],
            [
             0.3333333333333333,
             "#9c179e"
            ],
            [
             0.4444444444444444,
             "#bd3786"
            ],
            [
             0.5555555555555556,
             "#d8576b"
            ],
            [
             0.6666666666666666,
             "#ed7953"
            ],
            [
             0.7777777777777778,
             "#fb9f3a"
            ],
            [
             0.8888888888888888,
             "#fdca26"
            ],
            [
             1,
             "#f0f921"
            ]
           ]
          },
          "colorway": [
           "#636efa",
           "#EF553B",
           "#00cc96",
           "#ab63fa",
           "#FFA15A",
           "#19d3f3",
           "#FF6692",
           "#B6E880",
           "#FF97FF",
           "#FECB52"
          ],
          "font": {
           "color": "#2a3f5f"
          },
          "geo": {
           "bgcolor": "white",
           "lakecolor": "white",
           "landcolor": "#E5ECF6",
           "showlakes": true,
           "showland": true,
           "subunitcolor": "white"
          },
          "hoverlabel": {
           "align": "left"
          },
          "hovermode": "closest",
          "mapbox": {
           "style": "light"
          },
          "paper_bgcolor": "white",
          "plot_bgcolor": "#E5ECF6",
          "polar": {
           "angularaxis": {
            "gridcolor": "white",
            "linecolor": "white",
            "ticks": ""
           },
           "bgcolor": "#E5ECF6",
           "radialaxis": {
            "gridcolor": "white",
            "linecolor": "white",
            "ticks": ""
           }
          },
          "scene": {
           "xaxis": {
            "backgroundcolor": "#E5ECF6",
            "gridcolor": "white",
            "gridwidth": 2,
            "linecolor": "white",
            "showbackground": true,
            "ticks": "",
            "zerolinecolor": "white"
           },
           "yaxis": {
            "backgroundcolor": "#E5ECF6",
            "gridcolor": "white",
            "gridwidth": 2,
            "linecolor": "white",
            "showbackground": true,
            "ticks": "",
            "zerolinecolor": "white"
           },
           "zaxis": {
            "backgroundcolor": "#E5ECF6",
            "gridcolor": "white",
            "gridwidth": 2,
            "linecolor": "white",
            "showbackground": true,
            "ticks": "",
            "zerolinecolor": "white"
           }
          },
          "shapedefaults": {
           "line": {
            "color": "#2a3f5f"
           }
          },
          "ternary": {
           "aaxis": {
            "gridcolor": "white",
            "linecolor": "white",
            "ticks": ""
           },
           "baxis": {
            "gridcolor": "white",
            "linecolor": "white",
            "ticks": ""
           },
           "bgcolor": "#E5ECF6",
           "caxis": {
            "gridcolor": "white",
            "linecolor": "white",
            "ticks": ""
           }
          },
          "title": {
           "x": 0.05
          },
          "xaxis": {
           "automargin": true,
           "gridcolor": "white",
           "linecolor": "white",
           "ticks": "",
           "title": {
            "standoff": 15
           },
           "zerolinecolor": "white",
           "zerolinewidth": 2
          },
          "yaxis": {
           "automargin": true,
           "gridcolor": "white",
           "linecolor": "white",
           "ticks": "",
           "title": {
            "standoff": 15
           },
           "zerolinecolor": "white",
           "zerolinewidth": 2
          }
         }
        },
        "title": {
         "text": "Comparación del Salario por Género y Puesto"
        },
        "updatemenus": [
         {
          "buttons": [
           {
            "args": [
             {
              "visible": [
               true,
               false,
               false,
               true,
               false,
               false
              ]
             }
            ],
            "label": "Salario Promedio",
            "method": "update"
           },
           {
            "args": [
             {
              "visible": [
               false,
               true,
               false,
               false,
               true,
               false
              ]
             }
            ],
            "label": "Salario Mínimo",
            "method": "update"
           },
           {
            "args": [
             {
              "visible": [
               false,
               false,
               true,
               false,
               false,
               true
              ]
             }
            ],
            "label": "Salario Máximo",
            "method": "update"
           }
          ],
          "direction": "down",
          "pad": {
           "r": 10,
           "t": 10
          },
          "showactive": true,
          "x": 0.1,
          "xanchor": "left",
          "y": 1.1,
          "yanchor": "top"
         }
        ],
        "xaxis": {
         "tickangle": 45,
         "title": {
          "text": "Puesto"
         }
        },
        "yaxis": {
         "title": {
          "text": "Salario"
         }
        }
       }
      }
     },
     "metadata": {},
     "output_type": "display_data"
    }
   ],
   "source": [
    "import plotly.graph_objects as go\n",
    "import pandas as pd\n",
    "\n",
    "# Suponiendo que 'df' contiene tus datos\n",
    "\n",
    "# Crear una copia del DataFrame original para cada tipo de salario\n",
    "df_avg = df.copy()\n",
    "df_min = df.copy()\n",
    "df_max = df.copy()\n",
    "\n",
    "# Renombrar las columnas para cada tipo de salario\n",
    "df_avg.rename(columns={'avg_salary': 'salary'}, inplace=True)\n",
    "df_min.rename(columns={'min_salary': 'salary'}, inplace=True)\n",
    "df_max.rename(columns={'max_salary': 'salary'}, inplace=True)\n",
    "\n",
    "# Agregar una nueva columna para cada tipo de salario\n",
    "df_avg['salary_type'] = 'Salario Promedio'\n",
    "df_min['salary_type'] = 'Salario Mínimo'\n",
    "df_max['salary_type'] = 'Salario Máximo'\n",
    "\n",
    "# Concatenar los DataFrames\n",
    "df_concat = pd.concat([df_avg, df_min, df_max])\n",
    "\n",
    "# Agrupar los datos por puesto y tipo de salario para cada género\n",
    "grouped_data = df_concat.groupby(['title', 'gender', 'salary_type']).agg({'salary': 'mean'}).reset_index()\n",
    "\n",
    "# Crear el gráfico\n",
    "fig = go.Figure()\n",
    "\n",
    "# Definir colores para cada género\n",
    "colors = {'M': 'blue', 'F': 'red'}\n",
    "\n",
    "# Iterar sobre los géneros para agregar las barras correspondientes\n",
    "for gender in grouped_data['gender'].unique():\n",
    "    for salary_type in ['Salario Promedio', 'Salario Mínimo', 'Salario Máximo']:\n",
    "        df_filtered = grouped_data[(grouped_data['gender'] == gender) & (grouped_data['salary_type'] == salary_type)]\n",
    "        fig.add_trace(go.Bar(\n",
    "            x=df_filtered['title'],\n",
    "            y=df_filtered['salary'],\n",
    "            name=f'{gender} - {salary_type}',\n",
    "            marker_color=colors[gender],  # Seleccionar color según género\n",
    "            legendgroup=gender,\n",
    "            visible=False  # Inicialmente ocultamos todas las barras\n",
    "        ))\n",
    "\n",
    "# Mostrar las barras del primer género\n",
    "fig.data[0].visible = True\n",
    "fig.data[3].visible = True\n",
    "\n",
    "\n",
    "# Crear botones para cambiar el tipo de salario\n",
    "buttons = []\n",
    "for i, salary_type in enumerate(['Salario Promedio', 'Salario Mínimo', 'Salario Máximo']):\n",
    "    button = dict(label=salary_type,\n",
    "                  method='update',\n",
    "                  args=[{'visible': [i == j or (j >= 3 and j % 3 == i) for j in range(len(fig.data))]}])\n",
    "    buttons.append(button)\n",
    "\n",
    "# Actualizar el diseño del gráfico\n",
    "fig.update_layout(\n",
    "    barmode='group',\n",
    "    title='Comparación del Salario por Género y Puesto',\n",
    "    xaxis=dict(title='Puesto', tickangle=45),\n",
    "    yaxis=dict(title='Salario'),\n",
    "    updatemenus=[\n",
    "        dict(buttons=buttons,\n",
    "             direction='down',\n",
    "             pad={'r': 10, 't': 10},\n",
    "             showactive=True,\n",
    "             x=0.1,\n",
    "             xanchor='left',\n",
    "             y=1.1,\n",
    "             yanchor='top')\n",
    "    ]\n",
    ")\n",
    "\n",
    "fig.show()"
   ]
  },
  {
   "cell_type": "markdown",
   "metadata": {},
   "source": [
    "Por último, printeo un pequeño resumen de las diferencias entre salarios."
   ]
  },
  {
   "cell_type": "code",
   "execution_count": 4,
   "metadata": {},
   "outputs": [
    {
     "name": "stdout",
     "output_type": "stream",
     "text": [
      "SALARIO MÁXIMO\n",
      "En el puesto Assistant Engineer la diferencia de salario máximo de un hombre frente a una mujer es de: 15744€\n",
      "En el puesto Engineer la diferencia de salario máximo de un hombre frente a una mujer es de: 2511€\n",
      "En el puesto Manager la diferencia de salario máximo de un hombre frente a una mujer es de: 15214€\n",
      "En el puesto Senior Engineer la diferencia de salario máximo de un hombre frente a una mujer es de: 2511€\n",
      "En el puesto Senior Staff la diferencia de salario máximo de un hombre frente a una mujer es de: 5510€\n",
      "En el puesto Staff la diferencia de salario máximo de un hombre frente a una mujer es de: 5533€\n",
      "En el puesto Technique Leader la diferencia de salario máximo de un hombre frente a una mujer es de: -12201€\n",
      "SALARIO MÍNIMO\n",
      "En el puesto Assistant Engineer la diferencia de salario mínimo de un hombre frente a una mujer es de: 239€\n",
      "En el puesto Engineer la diferencia de salario mínimo de un hombre frente a una mujer es de: 2€\n",
      "En el puesto Manager la diferencia de salario mínimo de un hombre frente a una mujer es de: 0€\n",
      "En el puesto Senior Engineer la diferencia de salario mínimo de un hombre frente a una mujer es de: 65€\n",
      "En el puesto Senior Staff la diferencia de salario mínimo de un hombre frente a una mujer es de: -188€\n",
      "En el puesto Staff la diferencia de salario mínimo de un hombre frente a una mujer es de: -188€\n",
      "En el puesto Technique Leader la diferencia de salario mínimo de un hombre frente a una mujer es de: -448€\n",
      "SALARIO MEDIO\n",
      "En el puesto Assistant Engineer la diferencia de salario medio de un hombre frente a una mujer es de: 558€\n",
      "En el puesto Engineer la diferencia de salario medio de un hombre frente a una mujer es de: 93€\n",
      "En el puesto Manager la diferencia de salario medio de un hombre frente a una mujer es de: 10774€\n",
      "En el puesto Senior Engineer la diferencia de salario medio de un hombre frente a una mujer es de: 126€\n",
      "En el puesto Senior Staff la diferencia de salario medio de un hombre frente a una mujer es de: 3€\n",
      "En el puesto Staff la diferencia de salario medio de un hombre frente a una mujer es de: 16€\n",
      "En el puesto Technique Leader la diferencia de salario medio de un hombre frente a una mujer es de: 94€\n"
     ]
    },
    {
     "name": "stderr",
     "output_type": "stream",
     "text": [
      "C:\\Users\\ferna\\AppData\\Local\\Temp\\ipykernel_7048\\2299883907.py:9: FutureWarning:\n",
      "\n",
      "Series.__getitem__ treating keys as positions is deprecated. In a future version, integer keys will always be treated as labels (consistent with DataFrame behavior). To access a value by position, use `ser.iloc[pos]`\n",
      "\n",
      "C:\\Users\\ferna\\AppData\\Local\\Temp\\ipykernel_7048\\2299883907.py:9: FutureWarning:\n",
      "\n",
      "Series.__getitem__ treating keys as positions is deprecated. In a future version, integer keys will always be treated as labels (consistent with DataFrame behavior). To access a value by position, use `ser.iloc[pos]`\n",
      "\n",
      "C:\\Users\\ferna\\AppData\\Local\\Temp\\ipykernel_7048\\2299883907.py:9: FutureWarning:\n",
      "\n",
      "Series.__getitem__ treating keys as positions is deprecated. In a future version, integer keys will always be treated as labels (consistent with DataFrame behavior). To access a value by position, use `ser.iloc[pos]`\n",
      "\n"
     ]
    }
   ],
   "source": [
    "for i in ['max_salary', 'min_salary', 'avg_salary']:\n",
    "    pivoted_df = df.pivot_table(index='title', columns='gender', values=[i]).reset_index()\n",
    "    pivoted_df['diferencia'] = pivoted_df[(i, 'M')] - pivoted_df[(i, 'F')]\n",
    "    if i == 'max_salary': pat ='salario máximo'\n",
    "    elif i == 'min_salary': pat = 'salario mínimo'\n",
    "    elif i == 'avg_salary': pat = 'salario medio'\n",
    "    print(pat.upper())\n",
    "    for j in range(pivoted_df.shape[0]):\n",
    "        print(f'En el puesto {pivoted_df.iloc[j]['title'][0]} la diferencia de {pat} de un hombre frente a una mujer es de: {pivoted_df.iloc[j]['diferencia'][0]:.0f}€')\n",
    "\n"
   ]
  },
  {
   "cell_type": "code",
   "execution_count": null,
   "metadata": {},
   "outputs": [],
   "source": []
  }
 ],
 "metadata": {
  "kernelspec": {
   "display_name": "Python 3",
   "language": "python",
   "name": "python3"
  },
  "language_info": {
   "codemirror_mode": {
    "name": "ipython",
    "version": 3
   },
   "file_extension": ".py",
   "mimetype": "text/x-python",
   "name": "python",
   "nbconvert_exporter": "python",
   "pygments_lexer": "ipython3",
   "version": "3.12.3"
  }
 },
 "nbformat": 4,
 "nbformat_minor": 2
}
