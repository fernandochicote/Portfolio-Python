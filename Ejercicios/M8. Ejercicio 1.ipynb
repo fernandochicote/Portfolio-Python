{
 "cells": [
  {
   "cell_type": "markdown",
   "metadata": {},
   "source": [
    "# M8. Ejercicio 1"
   ]
  },
  {
   "cell_type": "markdown",
   "metadata": {},
   "source": [
    "Probado con las frases:\n",
    "\n",
    "1. El 2024 es un año especial. En el 2024, celebraremos el 25 aniversario de algo importante. ¡El 2024 será increíble! Además, el 2024 tiene 366 días, porque es un año bisiesto. ¿Cuántos días tiene febrero en el 2024? ¡29 días! Recuerda: el 2024 será un año para recordar, un año lleno de eventos importantes y días especiales. Todos hablan del 2024 y no es para menos; el 2024 promete ser un año inolvidable.\n",
    "\n",
    "2. En el año 2023, muchas personas celebraron el 50 aniversario de la compañía. En 2023, los eventos fueron sorprendentes y memorables. ¡El 2023 fue un año lleno de sorpresas! Además, en 2023, se lanzaron 100 nuevos productos. ¿Quién podría olvidar el 2023? Ese año, 2023, será recordado como uno de los mejores. Todos los que vivieron el 2023 dicen que fue increíble. ¡2023 fue un año espectacular!\n"
   ]
  },
  {
   "cell_type": "code",
   "execution_count": 26,
   "metadata": {},
   "outputs": [
    {
     "name": "stdout",
     "output_type": "stream",
     "text": [
      "Resumen:\n",
      "La palabra en aparece 3 veces.\n",
      "La palabra el aparece 5 veces.\n",
      "La palabra año aparece 4 veces.\n",
      "La palabra muchas aparece 1 veces.\n",
      "La palabra personas aparece 1 veces.\n",
      "La palabra celebraron aparece 1 veces.\n",
      "La palabra aniversario aparece 1 veces.\n",
      "La palabra de aparece 3 veces.\n",
      "La palabra la aparece 1 veces.\n",
      "La palabra compañía aparece 1 veces.\n",
      "La palabra los aparece 3 veces.\n",
      "La palabra eventos aparece 1 veces.\n",
      "La palabra fueron aparece 1 veces.\n",
      "La palabra sorprendentes aparece 1 veces.\n",
      "La palabra y aparece 1 veces.\n",
      "La palabra memorables aparece 1 veces.\n",
      "La palabra fue aparece 3 veces.\n",
      "La palabra un aparece 2 veces.\n",
      "La palabra lleno aparece 1 veces.\n",
      "La palabra sorpresas aparece 1 veces.\n",
      "La palabra además aparece 1 veces.\n",
      "La palabra se aparece 1 veces.\n",
      "La palabra lanzaron aparece 1 veces.\n",
      "La palabra nuevos aparece 1 veces.\n",
      "La palabra productos aparece 1 veces.\n",
      "La palabra quién aparece 1 veces.\n",
      "La palabra podría aparece 1 veces.\n",
      "La palabra olvidar aparece 1 veces.\n",
      "La palabra ese aparece 1 veces.\n",
      "La palabra será aparece 1 veces.\n",
      "La palabra recordado aparece 1 veces.\n",
      "La palabra como aparece 1 veces.\n",
      "La palabra uno aparece 1 veces.\n",
      "La palabra mejores aparece 1 veces.\n",
      "La palabra todos aparece 1 veces.\n",
      "La palabra que aparece 2 veces.\n",
      "La palabra vivieron aparece 1 veces.\n",
      "La palabra dicen aparece 1 veces.\n",
      "La palabra increíble aparece 1 veces.\n",
      "La palabra espectacular aparece 1 veces.\n"
     ]
    }
   ],
   "source": [
    "# Importacion de librerias\n",
    "import string\n",
    "\n",
    "# Entrada frase\n",
    "frase = input('Introduce una frase:')\n",
    "\n",
    "# Buscado en ChatGPT, como eliminar caracteres de puntuación\n",
    "tabla_traduccion = str.maketrans('', '', string.punctuation + '¡¿')\n",
    "\n",
    "# Limpieza de la frase (minúsculas y caracteres de puntuación)\n",
    "frase = frase.lower().translate(tabla_traduccion)\n",
    "\n",
    "# Eliminación de caracteres númericos y generacion de la lista con las palabras de la frase\n",
    "palabras = [i for i in frase.split(\" \") if not i.isdigit()]\n",
    "\n",
    "# Creación del diccionario de frecuencias\n",
    "dicc_frec = {}\n",
    "for palabra in palabras:\n",
    "    if palabra in dicc_frec: dicc_frec[palabra] += 1\n",
    "    else: dicc_frec[palabra] = 1\n",
    "\n",
    "# Print del resumen\n",
    "print('Resumen:')\n",
    "\n",
    "for key, value in dicc_frec.items():\n",
    "    print('La palabra', key, 'aparece', value, 'veces.')"
   ]
  },
  {
   "cell_type": "code",
   "execution_count": null,
   "metadata": {},
   "outputs": [],
   "source": []
  }
 ],
 "metadata": {
  "kernelspec": {
   "display_name": "Python 3",
   "language": "python",
   "name": "python3"
  },
  "language_info": {
   "codemirror_mode": {
    "name": "ipython",
    "version": 3
   },
   "file_extension": ".py",
   "mimetype": "text/x-python",
   "name": "python",
   "nbconvert_exporter": "python",
   "pygments_lexer": "ipython3",
   "version": "3.12.3"
  }
 },
 "nbformat": 4,
 "nbformat_minor": 2
}
